{
 "cells": [
  {
   "cell_type": "markdown",
   "metadata": {},
   "source": [
    "<H1>Personalized Medecine : Redefining Cancer treatment</H1>\n",
    "\n",
    "-------------------\n"
   ]
  },
  {
   "cell_type": "markdown",
   "metadata": {},
   "source": [
    "<font size=3.5 ><text><strong>Classify Gene mutations that contribute to tumor growth (drivers) from the neutral mutations (passengers)</strong></text></font>\n",
    "<br>\n",
    "Once sequenced, a cancer tumor can have thousands of genetic mutations. But thanks to this KAGGLE challenge, the model built will distinguish the mutations that contribute to tumor growth (drivers) from the neutral mutations (passengers). \n",
    "<br>\n",
    "Currently this interpretation of genetic mutations is being done manually. This is a very time-consuming task where a clinical pathologist has to manually review and classify every single genetic mutation based on evidence from text-based clinical literature.\n",
    "<br>\n",
    "<br>\n",
    "<font size=3.5><strong>Here is the notebook structure</strong></font>\n",
    "<br><br>\n",
    "<ul>\n",
    "<li>I   – <a href=\"#chapI\">Explore data provided in the Kaggle files</a></li>\n",
    "<li>II  – <a href=\"#chapII\">Feature engineering</a></li>\n",
    "<li>III - <a href=\"#chapIII\">Vectorize Text feature</a></li>\n",
    "<li>IV  - <a href=\"#chapIV\">Build model</a></li>\n",
    "</ul>\n",
    "\n",
    "<br><font size=2 ><text>The Kaggle Platform provides here the datasets for the <b><font color='blue'>\"<a href=\"https://www.kaggle.com/c/msk-redefining-cancer-treatment\">Personalized Medecine : Redefining Cancer treatment</a>\"</font></b> competition.</text></font></br>\n",
    "<br>\n",
    "<font size = 3.5><strong>Variables in the dataset</strong></font><br>\n",
    "We have 2 sets of files to explore and use to predict the gene mutation type<br>\n",
    "<br>\n",
    "<u>Among these variables we have in the training/test_variants:</u>\n",
    "<br><b>ID</b> : the id of the row used to link the mutation to the clinical evidence<br>\n",
    "<b>Gene</b> : the gene where this genetic mutation is located<br>\n",
    "<b>Variation</b> : the aminoacid change for this mutations<br>\n",
    "<b>Class</b> (for the training_variant): 1-9 the class this genetic mutation has been classified on<br>\n",
    "<br>\n",
    "<u>Among these variables we have in the train/test_text:</u><br>\n",
    "<b>ID</b> : the id of the row used to link the clinical evidence to the genetic mutation<br>\n",
    "<b>Text</b> : the clinical evidence used to classify the genetic mutation<br>\n",
    "\n"
   ]
  },
  {
   "cell_type": "code",
   "execution_count": 1,
   "metadata": {
    "collapsed": false
   },
   "outputs": [
    {
     "name": "stderr",
     "output_type": "stream",
     "text": [
      "C:\\Users\\Ludovic\\Anaconda3\\lib\\site-packages\\gensim\\utils.py:860: UserWarning: detected Windows; aliasing chunkize to chunkize_serial\n",
      "  warnings.warn(\"detected Windows; aliasing chunkize to chunkize_serial\")\n",
      "C:\\Users\\Ludovic\\Anaconda3\\lib\\site-packages\\sklearn\\cross_validation.py:44: DeprecationWarning: This module was deprecated in version 0.18 in favor of the model_selection module into which all the refactored classes and functions are moved. Also note that the interface of the new CV iterators are different from that of this module. This module will be removed in 0.20.\n",
      "  \"This module will be removed in 0.20.\", DeprecationWarning)\n"
     ]
    },
    {
     "name": "stdout",
     "output_type": "stream",
     "text": [
      "Training sets structure :\n",
      "training variants (3321, 4)  & text shape (3321, 2)\n",
      "\n",
      "   ID    Gene             Variation  Class\n",
      "0   0  FAM58A  Truncating Mutations      1\n",
      "1   1     CBL                 W802*      2\n",
      "2   2     CBL                 Q249E      2\n",
      "3   3     CBL                 N454D      3\n",
      "4   4     CBL                 L399V      4\n"
     ]
    }
   ],
   "source": [
    "#Import modules\n",
    "import pandas as pd\n",
    "import numpy as np\n",
    "import matplotlib.pyplot as plt\n",
    "import seaborn as sns\n",
    "%matplotlib inline\n",
    "\n",
    "from gensim.models.word2vec import Word2Vec\n",
    "from collections import Counter, defaultdict\n",
    "from sklearn.feature_extraction.text import CountVectorizer\n",
    "from sklearn.feature_extraction.text import TfidfVectorizer\n",
    "from sklearn.ensemble import ExtraTreesClassifier\n",
    "from sklearn.naive_bayes import BernoulliNB, MultinomialNB\n",
    "from sklearn.pipeline import Pipeline\n",
    "from sklearn.svm import SVC\n",
    "from sklearn.metrics import accuracy_score\n",
    "from sklearn.cross_validation import cross_val_score\n",
    "from sklearn.cross_validation import StratifiedShuffleSplit\n",
    "\n",
    "#Open the dataset files\n",
    "training_variants_df = pd.read_csv(\"training_variants\")\n",
    "test_variants_df = pd.read_csv(\"test_variants\")\n",
    "training_text_df = pd.read_csv(\"training_text\", sep=\"\\|\\|\", engine='python', header=None, skiprows=1, names=[\"ID\",\"Text\"])\n",
    "test_text_df = pd.read_csv(\"test_text\", sep=\"\\|\\|\", engine='python', header=None, skiprows=1, names=[\"ID\",\"Text\"])\n",
    "\n",
    "#Display the train sets structure\n",
    "print(\"Training sets structure :\")\n",
    "print(\"training variants \" + str(training_variants_df.shape) + \"  & text shape \" + str(training_text_df.shape))\n",
    "print(\"\")\n",
    "\n",
    "#Display first training lines\n",
    "print(training_variants_df.head())\n"
   ]
  },
  {
   "cell_type": "code",
   "execution_count": 2,
   "metadata": {
    "collapsed": false
   },
   "outputs": [],
   "source": [
    "#Join variants and text DataFrames on ID for train and test\n",
    "train = pd.merge(training_variants_df, training_text_df, how='left', on='ID')\n",
    "test = pd.merge(test_variants_df, test_text_df, how='left', on='ID')\n",
    "\n"
   ]
  },
  {
   "cell_type": "markdown",
   "metadata": {},
   "source": [
    "## <p id=\"chapI\">I - Explore DATA</p>\n",
    "\n",
    "--------------------------\n",
    "\n",
    "--------------------------\n",
    "\n",
    "<font size=3.5><strong>Look at the data distribution</strong></font>\n",
    "\n",
    "--------------------"
   ]
  },
  {
   "cell_type": "code",
   "execution_count": 3,
   "metadata": {
    "collapsed": false
   },
   "outputs": [
    {
     "data": {
      "image/png": "[encoded data removed]",
      "text/plain": [
       "<matplotlib.figure.Figure at 0x284ffad7470>"
      ]
     },
     "metadata": {},
     "output_type": "display_data"
    }
   ],
   "source": [
    "# How is the Class distribution ?\n",
    "def plot_feature_frequency(feature):\n",
    "    plt.figure(figsize=(12,8))\n",
    "    sns.countplot(x=feature, data=train)\n",
    "    plt.ylabel('Frequency', fontsize=12)\n",
    "    plt.xlabel(feature+'Count', fontsize=12)\n",
    "    plt.xticks(rotation='horizontal')\n",
    "    plt.title(\"Frequency of Classes\", fontsize=15)\n",
    "    plt.show()\n",
    "\n",
    "#Plot the class frequency in the train dataset\n",
    "plot_feature_frequency(\"Class\")"
   ]
  },
  {
   "cell_type": "markdown",
   "metadata": {},
   "source": [
    "Few example to train for the classes 9 and 8 and not much more for the class 3."
   ]
  },
  {
   "cell_type": "code",
   "execution_count": 4,
   "metadata": {
    "collapsed": false
   },
   "outputs": [
    {
     "data": {
      "text/html": [
       "<div>\n",
       "<style>\n",
       "    .dataframe thead tr:only-child th {\n",
       "        text-align: right;\n",
       "    }\n",
       "\n",
       "    .dataframe thead th {\n",
       "        text-align: left;\n",
       "    }\n",
       "\n",
       "    .dataframe tbody tr th {\n",
       "        vertical-align: top;\n",
       "    }\n",
       "</style>\n",
       "<table border=\"1\" class=\"dataframe\">\n",
       "  <thead>\n",
       "    <tr style=\"text-align: right;\">\n",
       "      <th></th>\n",
       "      <th>ID</th>\n",
       "      <th>Gene</th>\n",
       "      <th>Variation</th>\n",
       "      <th>Class</th>\n",
       "      <th>Text</th>\n",
       "    </tr>\n",
       "  </thead>\n",
       "  <tbody>\n",
       "    <tr>\n",
       "      <th>0</th>\n",
       "      <td>0</td>\n",
       "      <td>FAM58A</td>\n",
       "      <td>Truncating Mutations</td>\n",
       "      <td>1</td>\n",
       "      <td>Cyclin-dependent kinases (CDKs) regulate a var...</td>\n",
       "    </tr>\n",
       "    <tr>\n",
       "      <th>1</th>\n",
       "      <td>1</td>\n",
       "      <td>CBL</td>\n",
       "      <td>W802*</td>\n",
       "      <td>2</td>\n",
       "      <td>Abstract Background  Non-small cell lung canc...</td>\n",
       "    </tr>\n",
       "    <tr>\n",
       "      <th>2</th>\n",
       "      <td>2</td>\n",
       "      <td>CBL</td>\n",
       "      <td>Q249E</td>\n",
       "      <td>2</td>\n",
       "      <td>Abstract Background  Non-small cell lung canc...</td>\n",
       "    </tr>\n",
       "    <tr>\n",
       "      <th>3</th>\n",
       "      <td>3</td>\n",
       "      <td>CBL</td>\n",
       "      <td>N454D</td>\n",
       "      <td>3</td>\n",
       "      <td>Recent evidence has demonstrated that acquired...</td>\n",
       "    </tr>\n",
       "    <tr>\n",
       "      <th>4</th>\n",
       "      <td>4</td>\n",
       "      <td>CBL</td>\n",
       "      <td>L399V</td>\n",
       "      <td>4</td>\n",
       "      <td>Oncogenic mutations in the monomeric Casitas B...</td>\n",
       "    </tr>\n",
       "  </tbody>\n",
       "</table>\n",
       "</div>"
      ],
      "text/plain": [
       "   ID    Gene             Variation  Class  \\\n",
       "0   0  FAM58A  Truncating Mutations      1   \n",
       "1   1     CBL                 W802*      2   \n",
       "2   2     CBL                 Q249E      2   \n",
       "3   3     CBL                 N454D      3   \n",
       "4   4     CBL                 L399V      4   \n",
       "\n",
       "                                                Text  \n",
       "0  Cyclin-dependent kinases (CDKs) regulate a var...  \n",
       "1   Abstract Background  Non-small cell lung canc...  \n",
       "2   Abstract Background  Non-small cell lung canc...  \n",
       "3  Recent evidence has demonstrated that acquired...  \n",
       "4  Oncogenic mutations in the monomeric Casitas B...  "
      ]
     },
     "execution_count": 4,
     "metadata": {},
     "output_type": "execute_result"
    }
   ],
   "source": [
    "#Have an overview of the joined datasets\n",
    "train.head()"
   ]
  },
  {
   "cell_type": "code",
   "execution_count": 5,
   "metadata": {
    "collapsed": false
   },
   "outputs": [
    {
     "data": {
      "text/plain": [
       "77202"
      ]
     },
     "execution_count": 5,
     "metadata": {},
     "output_type": "execute_result"
    }
   ],
   "source": [
    "#Get the length of the longer text\n",
    "text_len = train.apply(lambda x : len(x[\"Text\"].split(\" \")), axis=1)   #Enumerate the words number for each text provided\n",
    "max(text_len)                       "
   ]
  },
  {
   "cell_type": "markdown",
   "metadata": {},
   "source": [
    "The longer text is built with 77 202 words. As discussed in the project presentation, we have very long text that should be time consuming for researcher. "
   ]
  },
  {
   "cell_type": "code",
   "execution_count": 6,
   "metadata": {
    "collapsed": false
   },
   "outputs": [
    {
     "data": {
      "image/png": "[encoded data removed]",
      "text/plain": [
       "<matplotlib.figure.Figure at 0x284ffab5ba8>"
      ]
     },
     "metadata": {},
     "output_type": "display_data"
    }
   ],
   "source": [
    "#How is the Gene distribution by Class ?\n",
    "fig, axis = plt.subplots(ncols=3, nrows=3, figsize=(15,15))\n",
    "\n",
    "#For each class get the 7 most popular gene\n",
    "for i in range(3):\n",
    "    for j in range(3):\n",
    "        train_class_ij = train[train['Class']==((i*3+j)+1)]   #Select the rows associated at the current class in the inner loop\n",
    "        gene_pivot_df = train_class_ij.pivot_table(index=\"Gene\", values=\"ID\", aggfunc=lambda x: len(x)).reset_index()   #Count the number of occurences for each Gene     \n",
    "        gene_pivot_df = gene_pivot_df.sort_values('ID', ascending=False)[:7]\n",
    "        sns.barplot(x=\"Gene\", y=\"ID\", data=gene_pivot_df, alpha=0.8, ax=axis[i][j])\n",
    "        axis[i][j].set(xlabel='Gene', ylabel='Gene Occurences', title= \"Class \"+str((i*3+j)+1))\n",
    "        \n"
   ]
  },
  {
   "cell_type": "markdown",
   "metadata": {},
   "source": [
    "Some class are clearly dominated by some genes. For example, the Class 5 is mainly linked to the gene BRCA1 or the Class 1 by TP53 and BRCA1."
   ]
  },
  {
   "cell_type": "markdown",
   "metadata": {},
   "source": [
    "As we have a long <font color='red'>\"Text\"</font> feature for many observations, we will have a look to check how <font size=3.5><strong>Natural Language Process could help to classify each row.</strong></font> "
   ]
  },
  {
   "cell_type": "markdown",
   "metadata": {},
   "source": [
    "<font size=3.5><strong>Add the number of words as a new feature and keep on exploring data</strong></font> "
   ]
  },
  {
   "cell_type": "code",
   "execution_count": 7,
   "metadata": {
    "collapsed": false
   },
   "outputs": [],
   "source": [
    "#Length of train text entry \n",
    "#Define a feature as the number of words by text feature\n",
    "train[\"Text_num_words\"] = train[\"Text\"].apply(lambda x: len(str(x).split()) )\n",
    "test[\"Text_num_words\"] = test[\"Text\"].apply(lambda x: len(str(x).split()) )\n"
   ]
  },
  {
   "cell_type": "code",
   "execution_count": 8,
   "metadata": {
    "collapsed": false
   },
   "outputs": [
    {
     "data": {
      "text/plain": [
       "[<matplotlib.text.Text at 0x284b29fbeb8>,\n",
       " <matplotlib.text.Text at 0x284b3131da0>,\n",
       " <matplotlib.text.Text at 0x284b320ce48>]"
      ]
     },
     "execution_count": 8,
     "metadata": {},
     "output_type": "execute_result"
    },
    {
     "data": {
      "image/png": "[encoded data removed]",
      "text/plain": [
       "<matplotlib.figure.Figure at 0x284ffad7860>"
      ]
     },
     "metadata": {},
     "output_type": "display_data"
    }
   ],
   "source": [
    "#Plot the number of words distribution for train and text datasets\n",
    "fig, ax = plt.subplots(figsize=(18, 8))\n",
    "\n",
    "sns.distplot(train.Text_num_words.values, bins=50, kde=False, color='red',ax=ax)\n",
    "sns.distplot(test.Text_num_words.values, bins=50, kde=False, color='red',ax=ax)\n",
    "ax.set(xlabel='Number of words', ylabel='Count', title= \"Frequency of number of words\")\n"
   ]
  },
  {
   "cell_type": "markdown",
   "metadata": {},
   "source": [
    "Train and Test datasets have a similar number of word shape distribution but Test has much longer text description.\n",
    "\n",
    "Moreover some texts looks very short or almost empty.\n",
    "<br><br>\n",
    "<font size = 3.5><strong>What about null values recorded by row ?</strong></font>"
   ]
  },
  {
   "cell_type": "code",
   "execution_count": 9,
   "metadata": {
    "collapsed": false
   },
   "outputs": [
    {
     "data": {
      "text/plain": [
       "0    5668\n",
       "dtype: int64"
      ]
     },
     "execution_count": 9,
     "metadata": {},
     "output_type": "execute_result"
    }
   ],
   "source": [
    "#Sum the number of null values by row\n",
    "test_null_col = test.isnull().sum(axis=1)\n",
    "test_null_col.value_counts()"
   ]
  },
  {
   "cell_type": "markdown",
   "metadata": {},
   "source": [
    "BUT there is no null value in the train dataframe"
   ]
  },
  {
   "cell_type": "code",
   "execution_count": 10,
   "metadata": {
    "collapsed": false
   },
   "outputs": [
    {
     "data": {
      "text/html": [
       "<div>\n",
       "<style>\n",
       "    .dataframe thead tr:only-child th {\n",
       "        text-align: right;\n",
       "    }\n",
       "\n",
       "    .dataframe thead th {\n",
       "        text-align: left;\n",
       "    }\n",
       "\n",
       "    .dataframe tbody tr th {\n",
       "        vertical-align: top;\n",
       "    }\n",
       "</style>\n",
       "<table border=\"1\" class=\"dataframe\">\n",
       "  <thead>\n",
       "    <tr style=\"text-align: right;\">\n",
       "      <th></th>\n",
       "      <th>ID</th>\n",
       "      <th>Gene</th>\n",
       "      <th>Variation</th>\n",
       "      <th>Class</th>\n",
       "      <th>Text</th>\n",
       "      <th>Text_num_words</th>\n",
       "    </tr>\n",
       "  </thead>\n",
       "  <tbody>\n",
       "    <tr>\n",
       "      <th>1378</th>\n",
       "      <td>1378</td>\n",
       "      <td>AKT2</td>\n",
       "      <td>D399N</td>\n",
       "      <td>7</td>\n",
       "      <td>The activating E17K mutations recently discove...</td>\n",
       "      <td>448</td>\n",
       "    </tr>\n",
       "    <tr>\n",
       "      <th>1368</th>\n",
       "      <td>1368</td>\n",
       "      <td>AKT2</td>\n",
       "      <td>D32H</td>\n",
       "      <td>7</td>\n",
       "      <td>The activating E17K mutations recently discove...</td>\n",
       "      <td>448</td>\n",
       "    </tr>\n",
       "    <tr>\n",
       "      <th>1277</th>\n",
       "      <td>1277</td>\n",
       "      <td>ARID5B</td>\n",
       "      <td>Truncating Mutations</td>\n",
       "      <td>1</td>\n",
       "      <td>null</td>\n",
       "      <td>1</td>\n",
       "    </tr>\n",
       "    <tr>\n",
       "      <th>2755</th>\n",
       "      <td>2755</td>\n",
       "      <td>BRAF</td>\n",
       "      <td>G596C</td>\n",
       "      <td>7</td>\n",
       "      <td>null</td>\n",
       "      <td>1</td>\n",
       "    </tr>\n",
       "    <tr>\n",
       "      <th>2504</th>\n",
       "      <td>2504</td>\n",
       "      <td>BRCA1</td>\n",
       "      <td>V11A</td>\n",
       "      <td>6</td>\n",
       "      <td>Identification of protein-protein interaction...</td>\n",
       "      <td>230</td>\n",
       "    </tr>\n",
       "    <tr>\n",
       "      <th>344</th>\n",
       "      <td>344</td>\n",
       "      <td>CDH1</td>\n",
       "      <td>A617T</td>\n",
       "      <td>4</td>\n",
       "      <td>E-cadherin is involved in the formation of cel...</td>\n",
       "      <td>187</td>\n",
       "    </tr>\n",
       "    <tr>\n",
       "      <th>346</th>\n",
       "      <td>346</td>\n",
       "      <td>CDH1</td>\n",
       "      <td>A634V</td>\n",
       "      <td>4</td>\n",
       "      <td>E-cadherin is involved in the formation of cel...</td>\n",
       "      <td>187</td>\n",
       "    </tr>\n",
       "    <tr>\n",
       "      <th>348</th>\n",
       "      <td>348</td>\n",
       "      <td>CDH1</td>\n",
       "      <td>T340A</td>\n",
       "      <td>4</td>\n",
       "      <td>E-cadherin is involved in the formation of cel...</td>\n",
       "      <td>187</td>\n",
       "    </tr>\n",
       "    <tr>\n",
       "      <th>648</th>\n",
       "      <td>648</td>\n",
       "      <td>CDKN2A</td>\n",
       "      <td>Q50*</td>\n",
       "      <td>4</td>\n",
       "      <td>The p16 gene is located in chromosome 9p21, a ...</td>\n",
       "      <td>103</td>\n",
       "    </tr>\n",
       "    <tr>\n",
       "      <th>688</th>\n",
       "      <td>688</td>\n",
       "      <td>CDKN2A</td>\n",
       "      <td>R79P</td>\n",
       "      <td>4</td>\n",
       "      <td>Cell division is controlled by a series of pos...</td>\n",
       "      <td>228</td>\n",
       "    </tr>\n",
       "    <tr>\n",
       "      <th>692</th>\n",
       "      <td>692</td>\n",
       "      <td>CDKN2A</td>\n",
       "      <td>G93W</td>\n",
       "      <td>4</td>\n",
       "      <td>Cell division is controlled by a series of pos...</td>\n",
       "      <td>228</td>\n",
       "    </tr>\n",
       "    <tr>\n",
       "      <th>693</th>\n",
       "      <td>693</td>\n",
       "      <td>CDKN2A</td>\n",
       "      <td>V118D</td>\n",
       "      <td>4</td>\n",
       "      <td>Cell division is controlled by a series of pos...</td>\n",
       "      <td>228</td>\n",
       "    </tr>\n",
       "    <tr>\n",
       "      <th>140</th>\n",
       "      <td>140</td>\n",
       "      <td>EGFR</td>\n",
       "      <td>I491M</td>\n",
       "      <td>5</td>\n",
       "      <td>The accurate determination of perfluoroalkyl s...</td>\n",
       "      <td>430</td>\n",
       "    </tr>\n",
       "    <tr>\n",
       "      <th>145</th>\n",
       "      <td>145</td>\n",
       "      <td>EGFR</td>\n",
       "      <td>K467T</td>\n",
       "      <td>2</td>\n",
       "      <td>The accurate determination of perfluoroalkyl s...</td>\n",
       "      <td>430</td>\n",
       "    </tr>\n",
       "    <tr>\n",
       "      <th>259</th>\n",
       "      <td>259</td>\n",
       "      <td>EGFR</td>\n",
       "      <td>S464L</td>\n",
       "      <td>2</td>\n",
       "      <td>The accurate determination of perfluoroalkyl s...</td>\n",
       "      <td>430</td>\n",
       "    </tr>\n",
       "    <tr>\n",
       "      <th>1057</th>\n",
       "      <td>1057</td>\n",
       "      <td>EWSR1</td>\n",
       "      <td>EWSR1-FEV Fusion</td>\n",
       "      <td>2</td>\n",
       "      <td>As a result of chromosome translocations, the ...</td>\n",
       "      <td>207</td>\n",
       "    </tr>\n",
       "    <tr>\n",
       "      <th>1109</th>\n",
       "      <td>1109</td>\n",
       "      <td>FANCA</td>\n",
       "      <td>S1088F</td>\n",
       "      <td>1</td>\n",
       "      <td>null</td>\n",
       "      <td>1</td>\n",
       "    </tr>\n",
       "    <tr>\n",
       "      <th>1407</th>\n",
       "      <td>1407</td>\n",
       "      <td>FGFR3</td>\n",
       "      <td>K508M</td>\n",
       "      <td>6</td>\n",
       "      <td>null</td>\n",
       "      <td>1</td>\n",
       "    </tr>\n",
       "    <tr>\n",
       "      <th>1639</th>\n",
       "      <td>1639</td>\n",
       "      <td>FLT1</td>\n",
       "      <td>Amplification</td>\n",
       "      <td>6</td>\n",
       "      <td>null</td>\n",
       "      <td>1</td>\n",
       "    </tr>\n",
       "    <tr>\n",
       "      <th>868</th>\n",
       "      <td>868</td>\n",
       "      <td>HLA-A</td>\n",
       "      <td>596_619splice</td>\n",
       "      <td>1</td>\n",
       "      <td>A new variant of the HLA-A*010101 allele desig...</td>\n",
       "      <td>184</td>\n",
       "    </tr>\n",
       "    <tr>\n",
       "      <th>1286</th>\n",
       "      <td>1286</td>\n",
       "      <td>HRAS</td>\n",
       "      <td>A146V</td>\n",
       "      <td>2</td>\n",
       "      <td>Costello syndrome is a rare congenital disorde...</td>\n",
       "      <td>244</td>\n",
       "    </tr>\n",
       "    <tr>\n",
       "      <th>1290</th>\n",
       "      <td>1290</td>\n",
       "      <td>HRAS</td>\n",
       "      <td>T58I</td>\n",
       "      <td>2</td>\n",
       "      <td>We report a 10-year-old girl presenting with s...</td>\n",
       "      <td>231</td>\n",
       "    </tr>\n",
       "    <tr>\n",
       "      <th>2980</th>\n",
       "      <td>2980</td>\n",
       "      <td>KIT</td>\n",
       "      <td>N655K</td>\n",
       "      <td>2</td>\n",
       "      <td>TO THE EDITOR: I commend Drs. Freeman and Bank...</td>\n",
       "      <td>362</td>\n",
       "    </tr>\n",
       "    <tr>\n",
       "      <th>1154</th>\n",
       "      <td>1154</td>\n",
       "      <td>KMT2C</td>\n",
       "      <td>S3660L</td>\n",
       "      <td>5</td>\n",
       "      <td>Several studies indicated that the expression ...</td>\n",
       "      <td>341</td>\n",
       "    </tr>\n",
       "    <tr>\n",
       "      <th>2908</th>\n",
       "      <td>2908</td>\n",
       "      <td>NF2</td>\n",
       "      <td>Q324L</td>\n",
       "      <td>5</td>\n",
       "      <td>Neurofibromatosis 2 (NF2) is a tumor predispos...</td>\n",
       "      <td>183</td>\n",
       "    </tr>\n",
       "    <tr>\n",
       "      <th>2900</th>\n",
       "      <td>2900</td>\n",
       "      <td>NF2</td>\n",
       "      <td>E106G</td>\n",
       "      <td>1</td>\n",
       "      <td>Neurofibromatosis 2 (NF2) is a tumor predispos...</td>\n",
       "      <td>183</td>\n",
       "    </tr>\n",
       "    <tr>\n",
       "      <th>2906</th>\n",
       "      <td>2906</td>\n",
       "      <td>NF2</td>\n",
       "      <td>Q538P</td>\n",
       "      <td>1</td>\n",
       "      <td>Neurofibromatosis 2 (NF2) is a tumor predispos...</td>\n",
       "      <td>183</td>\n",
       "    </tr>\n",
       "    <tr>\n",
       "      <th>941</th>\n",
       "      <td>941</td>\n",
       "      <td>PDGFRB</td>\n",
       "      <td>ATF7IP-PDGFRB Fusion</td>\n",
       "      <td>2</td>\n",
       "      <td>Chronic myelomonocytic leukemia (CMML) is a my...</td>\n",
       "      <td>116</td>\n",
       "    </tr>\n",
       "    <tr>\n",
       "      <th>1583</th>\n",
       "      <td>1583</td>\n",
       "      <td>PMS1</td>\n",
       "      <td>Q233*</td>\n",
       "      <td>4</td>\n",
       "      <td>HEREDITARY nonpolyposis colorectal cancer (HNP...</td>\n",
       "      <td>114</td>\n",
       "    </tr>\n",
       "    <tr>\n",
       "      <th>2146</th>\n",
       "      <td>2146</td>\n",
       "      <td>PTCH1</td>\n",
       "      <td>Truncating Mutations</td>\n",
       "      <td>1</td>\n",
       "      <td>Basal cell carcinoma (BCC) is the most common ...</td>\n",
       "      <td>212</td>\n",
       "    </tr>\n",
       "    <tr>\n",
       "      <th>1620</th>\n",
       "      <td>1620</td>\n",
       "      <td>VHL</td>\n",
       "      <td>P25L</td>\n",
       "      <td>5</td>\n",
       "      <td>Background: von Hippel-Lindau (VHL) disease is...</td>\n",
       "      <td>431</td>\n",
       "    </tr>\n",
       "    <tr>\n",
       "      <th>1613</th>\n",
       "      <td>1613</td>\n",
       "      <td>VHL</td>\n",
       "      <td>L158Q</td>\n",
       "      <td>4</td>\n",
       "      <td>The case of a 40-year-old woman with severe ed...</td>\n",
       "      <td>53</td>\n",
       "    </tr>\n",
       "  </tbody>\n",
       "</table>\n",
       "</div>"
      ],
      "text/plain": [
       "        ID    Gene             Variation  Class  \\\n",
       "1378  1378    AKT2                 D399N      7   \n",
       "1368  1368    AKT2                  D32H      7   \n",
       "1277  1277  ARID5B  Truncating Mutations      1   \n",
       "2755  2755    BRAF                 G596C      7   \n",
       "2504  2504   BRCA1                  V11A      6   \n",
       "344    344    CDH1                 A617T      4   \n",
       "346    346    CDH1                 A634V      4   \n",
       "348    348    CDH1                 T340A      4   \n",
       "648    648  CDKN2A                  Q50*      4   \n",
       "688    688  CDKN2A                  R79P      4   \n",
       "692    692  CDKN2A                  G93W      4   \n",
       "693    693  CDKN2A                 V118D      4   \n",
       "140    140    EGFR                 I491M      5   \n",
       "145    145    EGFR                 K467T      2   \n",
       "259    259    EGFR                 S464L      2   \n",
       "1057  1057   EWSR1      EWSR1-FEV Fusion      2   \n",
       "1109  1109   FANCA                S1088F      1   \n",
       "1407  1407   FGFR3                 K508M      6   \n",
       "1639  1639    FLT1         Amplification      6   \n",
       "868    868   HLA-A         596_619splice      1   \n",
       "1286  1286    HRAS                 A146V      2   \n",
       "1290  1290    HRAS                  T58I      2   \n",
       "2980  2980     KIT                 N655K      2   \n",
       "1154  1154   KMT2C                S3660L      5   \n",
       "2908  2908     NF2                 Q324L      5   \n",
       "2900  2900     NF2                 E106G      1   \n",
       "2906  2906     NF2                 Q538P      1   \n",
       "941    941  PDGFRB  ATF7IP-PDGFRB Fusion      2   \n",
       "1583  1583    PMS1                 Q233*      4   \n",
       "2146  2146   PTCH1  Truncating Mutations      1   \n",
       "1620  1620     VHL                  P25L      5   \n",
       "1613  1613     VHL                 L158Q      4   \n",
       "\n",
       "                                                   Text  Text_num_words  \n",
       "1378  The activating E17K mutations recently discove...             448  \n",
       "1368  The activating E17K mutations recently discove...             448  \n",
       "1277                                               null               1  \n",
       "2755                                               null               1  \n",
       "2504   Identification of protein-protein interaction...             230  \n",
       "344   E-cadherin is involved in the formation of cel...             187  \n",
       "346   E-cadherin is involved in the formation of cel...             187  \n",
       "348   E-cadherin is involved in the formation of cel...             187  \n",
       "648   The p16 gene is located in chromosome 9p21, a ...             103  \n",
       "688   Cell division is controlled by a series of pos...             228  \n",
       "692   Cell division is controlled by a series of pos...             228  \n",
       "693   Cell division is controlled by a series of pos...             228  \n",
       "140   The accurate determination of perfluoroalkyl s...             430  \n",
       "145   The accurate determination of perfluoroalkyl s...             430  \n",
       "259   The accurate determination of perfluoroalkyl s...             430  \n",
       "1057  As a result of chromosome translocations, the ...             207  \n",
       "1109                                               null               1  \n",
       "1407                                               null               1  \n",
       "1639                                               null               1  \n",
       "868   A new variant of the HLA-A*010101 allele desig...             184  \n",
       "1286  Costello syndrome is a rare congenital disorde...             244  \n",
       "1290  We report a 10-year-old girl presenting with s...             231  \n",
       "2980  TO THE EDITOR: I commend Drs. Freeman and Bank...             362  \n",
       "1154  Several studies indicated that the expression ...             341  \n",
       "2908  Neurofibromatosis 2 (NF2) is a tumor predispos...             183  \n",
       "2900  Neurofibromatosis 2 (NF2) is a tumor predispos...             183  \n",
       "2906  Neurofibromatosis 2 (NF2) is a tumor predispos...             183  \n",
       "941   Chronic myelomonocytic leukemia (CMML) is a my...             116  \n",
       "1583  HEREDITARY nonpolyposis colorectal cancer (HNP...             114  \n",
       "2146  Basal cell carcinoma (BCC) is the most common ...             212  \n",
       "1620  Background: von Hippel-Lindau (VHL) disease is...             431  \n",
       "1613  The case of a 40-year-old woman with severe ed...              53  "
      ]
     },
     "execution_count": 10,
     "metadata": {},
     "output_type": "execute_result"
    }
   ],
   "source": [
    "#Display rows having less than 500 words\n",
    "train[train[\"Text_num_words\"] < 500].sort_values(\"Gene\")"
   ]
  },
  {
   "cell_type": "markdown",
   "metadata": {},
   "source": [
    "We do not have much rows with \"null\" text. In this case the model will focus on other features to classify row.\n",
    "As a consequence we will keep the <font color=\"red\">Text_num_words</font> feature to help classification."
   ]
  },
  {
   "cell_type": "code",
   "execution_count": 11,
   "metadata": {
    "collapsed": false
   },
   "outputs": [
    {
     "data": {
      "image/png": "[encoded data removed]",
      "text/plain": [
       "<matplotlib.figure.Figure at 0x284b2c7ef98>"
      ]
     },
     "metadata": {},
     "output_type": "display_data"
    }
   ],
   "source": [
    "#Plot the number of words distribution for each class in combined text\n",
    "plt.figure(figsize=(12,8))\n",
    "sns.boxplot(x='Class', y='Text_num_words', data=train)\n",
    "plt.xlabel('Class', fontsize=12)\n",
    "plt.ylabel('Text - Number of words', fontsize=12)\n",
    "plt.title('Number of words by Class')\n",
    "plt.show()\n"
   ]
  },
  {
   "cell_type": "markdown",
   "metadata": {},
   "source": [
    "Classes 3, 5 and 6 have shorter texts than others so text length could help to classify.\n",
    "The longer texts are wrotten for classes 8 and 9. But these classes are very few represented as shown above.  "
   ]
  },
  {
   "cell_type": "code",
   "execution_count": 12,
   "metadata": {
    "collapsed": false
   },
   "outputs": [
    {
     "data": {
      "image/png": "[encoded data removed]",
      "text/plain": [
       "<matplotlib.figure.Figure at 0x284b2ea5ba8>"
      ]
     },
     "metadata": {},
     "output_type": "display_data"
    }
   ],
   "source": [
    "#Plot the number of words distribution for each gene and class\n",
    "fig, axs = plt.subplots(ncols=3, nrows=3, figsize=(15,15))\n",
    "for i in range(3):\n",
    "    for j in range(3):\n",
    "        gene_count_grp = train[train[\"Class\"]==((i*3+j)+1)].groupby('Gene')[\"Text_num_words\"].mean().reset_index()\n",
    "        sorted_gene_group = gene_count_grp.sort_values('Text_num_words', ascending=False)\n",
    "        sorted_gene_group_top_7 = sorted_gene_group[:7]\n",
    "        sns.barplot(x=\"Gene\", y=\"Text_num_words\", data=sorted_gene_group_top_7, ax=axs[i][j])\n",
    "        axs[i][j].set(xlabel='Gene', ylabel='Text length', title= \"Class \"+str((i*3+j)+1))"
   ]
  },
  {
   "cell_type": "markdown",
   "metadata": {
    "collapsed": true
   },
   "source": [
    "The combination of Gene and number of words would help model to define if the gene mutation is a driver for at least Class 1, 2 and 7."
   ]
  },
  {
   "cell_type": "markdown",
   "metadata": {},
   "source": [
    "On https://www.ncbi.nlm.nih.gov/pmc/articles/PMC2716785/table/t3-bmi-2006-001/ we can get a list of High priority cancer markers. Proteins having > 500 total citations, >100 citations in 2004, >50% 2004 citations.\n",
    "So we should use this information to get signal in the texts.\n",
    "How ?\n",
    "We will count the word number for each element of this list and look at the length distribution of these words.\n",
    "As a result it will lead our choice to define the ngram range to vectorize texts.\n",
    "By this way these \"High priority marker\" signal should be caught in our word/expression vectorization.\n"
   ]
  },
  {
   "cell_type": "code",
   "execution_count": 13,
   "metadata": {
    "collapsed": false
   },
   "outputs": [],
   "source": [
    "#Get the length distribution and define the TFIDF ngram-range after result analyse\n",
    "High_priority_cancer_markers = ['Alpha-fetoprotein',\n",
    "'Carcinoembryonic antigen',\n",
    "'Epidermal growth factor receptor',\n",
    "'Kallikrein 3 (prostate specific antigen)',\n",
    "'Vascular endothelial growth factor A',\n",
    "'VEGF',\n",
    "'Albumin',\n",
    "'CA 125',\n",
    "'Calcitonin',\n",
    "'Chromogranin A',\n",
    "'parathyroid secretory protein 1',\n",
    "'Corticotropin-lipotropin contains ACTH',\n",
    "'Estrogen receptor 1',\n",
    "'Gastrin',\n",
    "'Progesterone receptor',\n",
    "'Prolactin',\n",
    "'S100 alpha chain',\n",
    "'Somatostatin',\n",
    "'Thyroglobulin',\n",
    "'V-erb-b2, Her2/neu',\n",
    "'Antigen identified by monoclonal antibody Ki-67',\n",
    "'B-cell CLL/lymphoma 2',\n",
    "'BCL2-associated X protein',\n",
    "'Q07814',\n",
    "'Q07815',\n",
    "'Beta-2-microglobulin',\n",
    "'Breast cancer 1 early onset',\n",
    "'CA 15.3',\n",
    "'CA 19.9',\n",
    "'Cadherin 1 type 1 E-cadherin',\n",
    "'Caspase 3',\n",
    "'CD44 antigen',\n",
    "'Cellular tumor antigen p53',\n",
    "'Coagulation factor II, prothrombin',\n",
    "'Colony stimulating factor 2',\n",
    "'Colony stimulating factor 3',\n",
    "'C-reactive protein',\n",
    "'Cyclin D1',\n",
    "'Cyclin-dependent kinase inhibitor 1',\n",
    "'Erythropoietin',\n",
    "'Fibrinogen alpha/alpha-E chain',\n",
    "'Follicle-stimulating hormone',\n",
    "'Gamma enolase',\n",
    "'Insulin',\n",
    "'Interferon gamma',\n",
    "'Interleukin 2',\n",
    "'Interleukin 6',\n",
    "'k-ras',\n",
    "'Neprilysin, CD10',\n",
    "'Transferrin',\n",
    "'Trypsin',\n",
    "'Tumor necrosis factor (TNF-alpha)',\n",
    "'Tumor necrosis factor receptor superfamily member 6, fas',\n",
    "'Von Willebrand Factor',\n",
    "'Chemokine ligand 5 (CCL5)',\n",
    "'Chitinase-3 like protein 1, YKL-40',\n",
    "'Choriogonadotropin beta chain',\n",
    "'Colony stimulating factor 1 (macrophage)',\n",
    "'Haptoglobin-1',\n",
    "'Hepatocyte growth factor',\n",
    "'Inhibin',\n",
    "'Interferon-alpha/beta receptor alpha chain',\n",
    "'Interferon-alpha/beta receptor beta chain',\n",
    "'Kallikrein 10',\n",
    "'Kallikrein 11',\n",
    "'Kallikrein 6',\n",
    "'Matrix metalloproteinase 3',\n",
    "'Small inducible cytokine A21',\n",
    "'CCL21',\n",
    "'soluble IL-2R alpha',\n",
    "'Somatotropin growth factor, growth hormone',\n",
    "'P01242\t4.0E+02\t(Krassas et al. 2003)',\n",
    "'Breast cancer 2 early onset',\n",
    "'Catenin Beta 1',\n",
    "'Cathepsin D',\n",
    "'CD15',\n",
    "'Desmin',\n",
    "'DNA-(apurinic or apyrimidinic site) lyase, APEX',\n",
    "'Lutropin beta chain, Luteinizing hormone',\n",
    "'Parathyroid Hormone',\n",
    "'Proliferating cell nuclear antigen',\n",
    "'Tumor necrosis factor ligand superfamily member 8',\n",
    "'CD30 ligand',\n",
    "'V-myc myelocytomatosis viral oncogene homolog',\n",
    "'avian',\n",
    "'Tumor necrosis factor ligand superfamily member 8',\n",
    "'CD30',\n",
    "'17beta- Hydroxysteroid dehydrogenase type 1',\n",
    "'17HSD1',\n",
    "'Acid phosphatase prostate',\n",
    "'Adrenomedullin',\n",
    "'Aldolase A',\n",
    "'Alkaline phosphatase bone-specific',\n",
    "'Alkaline phosphatase, placental type',\n",
    "'Alpha-1-acid glycoprotein 1, orosomucoid',\n",
    "'Alpha-1-antitrypsin',\n",
    "'alpha-2-HS-glycoprotein',\n",
    "'Alpha-2-macroglobulin',\n",
    "'Alpha-lactalbumin',\n",
    "'Angiogenin ribonuclease RNase A family 5',\n",
    "'Angiopoietin 1',\n",
    "'Angiopoietin 2',\n",
    "'Antileukoproteinase 1',\n",
    "'SLPI',\n",
    "'Apolipoprotein A1',\n",
    "'Apolipoprotein A-II',\n",
    "'Apolipoprotein C-I',\n",
    "'Apolipoprotein C-III',\n",
    "'Bone sialoprotein II',\n",
    "'Brain-derived neurotrophic factor',\n",
    "'Breast cancer metastasis- suppressor 1',\n",
    "'BRMS1 mRNA',\n",
    "'CA 27.29',\n",
    "'CA 72–4',\n",
    "'Cathepsin B',\n",
    "'CC chemokine 4, HCC-4',\n",
    "'CD44 variant V5 soluble',\n",
    "'Ceruloplasmin',\n",
    "'Cervical cancer 1 protooncogene protein p40',\n",
    "'Chemokine',\n",
    "'Claudin-3',\n",
    "'Claudin-4',\n",
    "'Clusterin',\n",
    "'Coagulation factor III',\n",
    "'Coagulation factor XIII A chain',\n",
    "'Coagulation factor XIII B chain',\n",
    "'Collagen I c-terminal telopeptide',\n",
    "'Complement component 3',\n",
    "'Complement component 4',\n",
    "'Complement component 7',\n",
    "'Complement factor H related protein',\n",
    "'Cyclin-dependent kinase 6',\n",
    "'Cyclooxygenase-2',\n",
    "'Cystatin A',\n",
    "'Cystatin B',\n",
    "'Cystatin C',\n",
    "'Cytokeratin 8',\n",
    "'Diazepam binding inhibitor',\n",
    "'Endoglin',\n",
    "'Endothelin 1',\n",
    "'Epidermal growth factor',\n",
    "'E-selectin',\n",
    "'Ferritin H',\n",
    "'Ferritin, L',\n",
    "'Fibroblast growth factor 2 (basic)',\n",
    "'Fibronectin 1',\n",
    "'Flt-3 ligand',\n",
    "'Fms-related tyrosine kinase 1',\n",
    "'VEGFR1',\n",
    "'Follistatin',\n",
    "'Fructose- bisphosphate aldolase B',\n",
    "'Fructose- bisphosphate aldolase C',\n",
    "'Geminin',\n",
    "'Glucose-6- phosphate isomerase',\n",
    "'Glypican-3, n-terminal',\n",
    "'Growth arrest and DNA-damage- inducible alpha',\n",
    "'Immunosuppressive acidic protein',\n",
    "'Insulin-like growth factor 1',\n",
    "'somatomedin C',\n",
    "'Insulin-like growth factor 2',\n",
    "'somatomedin A',\n",
    "'Insulin-like growth factor binding protein 1',\n",
    "'Insulin-like growth factor binding protein 2',\n",
    "'Insulin-like growth factor binding protein 3',\n",
    "'Intercellular Adhesion Molecule 1',\n",
    "'Interferon alpha 1',\n",
    "'Interleukin 1 alpha',\n",
    "'Interleukin 1 beta',\n",
    "'Interleukin 10',\n",
    "'Interleukin 12A',\n",
    "'Interleukin 16',\n",
    "'Interleukin 5',\n",
    "'Interleukin 6 receptor',\n",
    "'Interleukin 6 signal transducer',\n",
    "'Interleukin 7',\n",
    "'Interleukin 8',\n",
    "'Interleukin 9',\n",
    "'Interleukin-1 receptor antagonist protein',\n",
    "'IRAP',\n",
    "'Kallikrein 14',\n",
    "'hK14',\n",
    "'Kallikrein 2 prostatic',\n",
    "'Kallikrein 5',\n",
    "'Kallikrein 7',\n",
    "'Kallikrein 8',\n",
    "'Keratin 18',\n",
    "'Keratin, type I cytoskeletal 19, cytokeratin 19',\n",
    "'Kit ligand',\n",
    "'Lactotransferrin',\n",
    "'Leptin',\n",
    "'L-selectin',\n",
    "'Luteinizing hormone-releasing hormone receptor',\n",
    "'Mac-2 Binding Protein 90K',\n",
    "'Mammaglobin B',\n",
    "'Mammary Serum Antigen',\n",
    "'cell growth factor',\n",
    "'Matrix metalloproteinase 2',\n",
    "'Matrix metalloproteinase 9',\n",
    "'Melanoma-inhibiting activity',\n",
    "'Membrane cofactor protein',\n",
    "'CD46 antigen',\n",
    "'Mesothelin',\n",
    "'Midkine',\n",
    "'MK-1 protein',\n",
    "'Ep-CAM',\n",
    "'Myoblast determination protein 1',\n",
    "'Nerve growth factor beta',\n",
    "'Netrin-1',\n",
    "'Neuroendocrine secretory protein-55',\n",
    "'Neutrophil defensin 1',\n",
    "'Neutrophil defensin 3',\n",
    "'Nm23-H1',\n",
    "'OVX1',\n",
    "'OX40',\n",
    "'p65 oncofetal protein',\n",
    "'Pancreatic secretory trypsin inhibitor',\n",
    "'TATI',\n",
    "'Parathyroid hormone-related protein',\n",
    "'Pcaf, P300/CBP-associated factor',\n",
    "'Pepsinogen-1',\n",
    "'Placental specific tissue protein 12',\n",
    "'Plasma retinol-binding protein',\n",
    "'Plasminogen',\n",
    "'Contains Angiostatin',\n",
    "'Platelet endothelial cell adhesion molecule, PECAM-1',\n",
    "'Platelet factor 4',\n",
    "'Platelet-derived growth factor beta polypeptide',\n",
    "'Platelet-derived growth factor receptor alpha polypeptide',\n",
    "'Pregnancy zone protein',\n",
    "'Pregnancy- associated plasma protein-A',\n",
    "'Prostate secretory protein PSP94',\n",
    "'P-selectin',\n",
    "'PSP94 binding protein',\n",
    "'Pyruvate kinase, isozymes M1/M2',\n",
    "'Riboflavin carrier protein',\n",
    "'S100 beta chain',\n",
    "'Secreted phosphoprotein 1, osteopontin',\n",
    "'Serine (or cysteine) proteinase inhibitor clade B',\n",
    "'maspin',\n",
    "'Serine (or cysteine) proteinase inhibitor clade E',\n",
    "'PAI-1',\n",
    "'Serum amyloid alpha-1',\n",
    "'Serum paraoxonase/ arylesterase 1',\n",
    "'Small inducible cytokine A14 CCL14',\n",
    "'Small inducible cytokine A18(CCL18)',\n",
    "'MIP-4',\n",
    "'Small inducible cytokine A2(CCL2)',\n",
    "'Small inducible cytokine A3(CCL3)',\n",
    "'Small inducible cytokine B5(CXCL5)',\n",
    "'Squamous cell carcinoma antigen 1',\n",
    "'Squamous cell carcinoma antigen 2',\n",
    "'Survivin',\n",
    "'Syndecan-1',\n",
    "'synuclein-gamma',\n",
    "'TEK tyrosine kinase endothelial, Tie-2',\n",
    "'Tenascin',\n",
    "'Tetranectin',\n",
    "'TGF-beta receptor type III',\n",
    "'Thioredoxin reductase 1, cytoplasmic',\n",
    "'Thrombopoietin',\n",
    "'Thrombospondin 1',\n",
    "'Thymidine kinase, cytosolic',\n",
    "'Tissue inhibitor of metalloproteinase 1',\n",
    "'Tissue inhibitor of metalloproteinase 2',\n",
    "'Tissue-type plasminogen activator, tPA',\n",
    "'Transferrin receptor',\n",
    "'p90 CD71',\n",
    "'Transforming growth factor alpha',\n",
    "'Transforming growth factor beta 1',\n",
    "'transthyretin',\n",
    "'Tropomyosin 1 alpha chain',\n",
    "'Alpha-tropomyosin',\n",
    "'Tumor necrosis factor (ligand) superfamily member 5',\n",
    "'CD154',\n",
    "'Tumor necrosis factor (ligand) superfamily member 6',\n",
    "'Fas ligand',\n",
    "'Tumor necrosis factor ligand superfamily member 13B',\n",
    "'TALL-1',\n",
    "'Tumor necrosis factor receptor superfamily member 11B',\n",
    "'osteoprotegerin',\n",
    "'Tumor necrosis factor receptor superfamily member 1A p60 TNF-RI p55 CD120a',\n",
    "'TNFR1',\n",
    "'Tumor necrosis factor receptor superfamily member 1B',\n",
    "'TNFR2',\n",
    "'Urokinase plasminogen activator surface receptor, U-PAR',\n",
    "'Vascular cell adhesion molecule 1',\n",
    "'Vascular endothelial growth factor receptor 2',\n",
    "'Vasoactive intestinal peptide',\n",
    "'VEGF(165)b',\n",
    "'Vitamin K dependent protein C',\n",
    "'Vitronectin',\n",
    "'X box binding protein-1']\n",
    "\n",
    "#Get lower case for relevant cancer markers name\n",
    "high_priority_cancer_markers_lowercase=[]\n",
    "for c_word in High_priority_cancer_markers:\n",
    "    lower_c_word = c_word.lower()\n",
    "    high_priority_cancer_markers_lowercase.append(lower_c_word)\n",
    "    \n"
   ]
  },
  {
   "cell_type": "code",
   "execution_count": 14,
   "metadata": {
    "collapsed": false
   },
   "outputs": [
    {
     "data": {
      "text/plain": [
       "<matplotlib.axes._subplots.AxesSubplot at 0x284b2effa58>"
      ]
     },
     "execution_count": 14,
     "metadata": {},
     "output_type": "execute_result"
    },
    {
     "data": {
      "image/png": "[encoded data removed]",
      "text/plain": [
       "<matplotlib.figure.Figure at 0x284b2f5def0>"
      ]
     },
     "metadata": {},
     "output_type": "display_data"
    }
   ],
   "source": [
    "#Evaluate the number of words for each cancer marker\n",
    "marker_length=[]\n",
    "for c_word in High_priority_cancer_markers:\n",
    "    marker_length.append(len(c_word.split(\" \")))\n",
    "    \n",
    "#Plot the cancer marker word number distribution\n",
    "sns.distplot(marker_length)   "
   ]
  },
  {
   "cell_type": "markdown",
   "metadata": {},
   "source": [
    "There is not a lot of cancer marker name that are built with more than 7 words so we will limit our vectorization model with 7-grams"
   ]
  },
  {
   "cell_type": "markdown",
   "metadata": {},
   "source": [
    "Let's focus on the Text feature and use <font size=3.5><strong>word embedding with word2vec</strong></font>"
   ]
  },
  {
   "cell_type": "code",
   "execution_count": 15,
   "metadata": {
    "collapsed": false
   },
   "outputs": [
    {
     "name": "stdout",
     "output_type": "stream",
     "text": [
      "2017-09-04 18:17:53\n"
     ]
    }
   ],
   "source": [
    "from gensim.models import Word2Vec\n",
    "from time import gmtime, strftime\n",
    "\n",
    "print(strftime(\"%Y-%m-%d %H:%M:%S\", gmtime()))\n",
    "\n",
    "\n",
    "#Extract text and target values\n",
    "#Transform label to int\n",
    "def vectorize_labels(DF, targets):\n",
    "    #DF is the DataFrame containing the targets serie\n",
    "    #targets is the DataFrame Serie Name that contains all target values\n",
    "    i=0\n",
    "    label_distinct_values = DF[targets].unique()\n",
    "    for label_val in label_distinct_values:\n",
    "            DF.loc[DF[targets] == label_val, targets] = i\n",
    "            i=i+1\n",
    "\n",
    "    #Vectorize int labels\n",
    "    labels=[]\n",
    "    for j in range(len(DF[targets])):\n",
    "        label = [0 for x in label_distinct_values]\n",
    "        label[DF[targets][j]] = 1\n",
    "        labels.append(label)\n",
    "    array_labels = np.array(labels)\n",
    "    return array_labels  \n",
    "\n",
    "x_text = train[\"Text\"]\n",
    "y_text = train[\"Class\"]\n",
    "y = vectorize_labels(train,\"Class\")\n",
    "train.drop(\"Class\",axis=1)\n",
    "\n",
    "#clean x_text\n",
    "# Tokenization/string cleaning\n",
    "import re\n",
    "def clean_str(string):\n",
    "    \n",
    "    string = re.sub(r\"[^A-Za-z0-9(),!?\\'\\`]\", \" \", string)\n",
    "    string = re.sub(r\"\\'s\", \" \\'s\", string)\n",
    "    string = re.sub(r\"\\'ve\", \" \\'ve\", string)\n",
    "    string = re.sub(r\"n\\'t\", \" n\\'t\", string)\n",
    "    string = re.sub(r\"\\'re\", \" \\'re\", string)\n",
    "    string = re.sub(r\"\\'d\", \" \\'d\", string)\n",
    "    string = re.sub(r\"\\'ll\", \" \\'ll\", string)\n",
    "    string = re.sub(r\",\", \" , \", string)\n",
    "    string = re.sub(r\"!\", \" ! \", string)\n",
    "    string = re.sub(r\"\\(\", \" \\( \", string)\n",
    "    string = re.sub(r\"\\)\", \" \\) \", string)\n",
    "    string = re.sub(r\"\\?\", \" \\? \", string)\n",
    "    string = re.sub(r\"\\s{2,}\", \" \", string)\n",
    "    return string.strip().lower()\n",
    "\n",
    "#Clean text read\n",
    "x_text = [clean_str(sent) for sent in x_text]\n",
    "\n",
    "#Merge train and test\n",
    "combine = train.append(test)\n",
    "combine.reset_index(inplace=True)\n",
    "combine.drop('index', inplace=True, axis=1)\n",
    "\n",
    "#Keep the train dataset length\n",
    "train_shape0 = training_variants_df.shape[0]\n",
    "\n",
    "#Create a list of list from the text\n",
    "X=combine[\"Text\"].apply(lambda x : x.split()).tolist()\n",
    "combine[\"Text_num_words\"] = combine[\"Text\"].apply(lambda x: len(str(x).split()) )\n"
   ]
  },
  {
   "cell_type": "code",
   "execution_count": 16,
   "metadata": {
    "collapsed": true
   },
   "outputs": [],
   "source": [
    "#File name to save or load the Word2Vec Model\n",
    "fname=\"Word2VecModel\""
   ]
  },
  {
   "cell_type": "code",
   "execution_count": 17,
   "metadata": {
    "collapsed": false
   },
   "outputs": [
    {
     "name": "stdout",
     "output_type": "stream",
     "text": [
      "Word2vec model built\n",
      "2017-09-04 18:51:50\n"
     ]
    }
   ],
   "source": [
    "#Vectorize text\n",
    "from gensim.models import Word2Vec\n",
    "\n",
    "#Train Word2Vec on the merge (train and test) tokenized text\n",
    "embedding_dimension=200\n",
    "w2v_model = Word2Vec(X, size=embedding_dimension, min_count=5, workers=2 )\n",
    "w2v = dict(zip(w2v_model.wv.index2word, w2v_model.wv.syn0))\n",
    "print(\"Word2vec model built\")\n",
    "print(strftime(\"%Y-%m-%d %H:%M:%S\", gmtime()))\n",
    "\n",
    "#Save the model on disk to save time at next notebook execution\n",
    "w2v_model.save(fname)"
   ]
  },
  {
   "cell_type": "code",
   "execution_count": 18,
   "metadata": {
    "collapsed": false
   },
   "outputs": [],
   "source": [
    "#Vectorize text\n",
    "from gensim.models import Word2Vec\n",
    "\n",
    "#Load the word2vec model\n",
    "w2v_model = Word2Vec.load(fname)\n",
    "w2v = dict(zip(w2v_model.wv.index2word, w2v_model.wv.syn0))"
   ]
  },
  {
   "cell_type": "markdown",
   "metadata": {},
   "source": [
    "<font size=3.5><strong>Explore Data with Word2vec and T-SNE</strong></font>"
   ]
  },
  {
   "cell_type": "code",
   "execution_count": 19,
   "metadata": {
    "collapsed": false
   },
   "outputs": [
    {
     "name": "stdout",
     "output_type": "stream",
     "text": [
      "2017-09-04 18:54:14\n",
      "Build a word2vec model with at least 500 occurences for each word in the vocabulary\n",
      "2017-09-04 19:20:58\n",
      "Reduce and plot the vocabulary with T-SNE\n"
     ]
    },
    {
     "data": {
      "image/png": "[encoded data removed]",
      "text/plain": [
       "<matplotlib.figure.Figure at 0x284b2e3b518>"
      ]
     },
     "metadata": {},
     "output_type": "display_data"
    },
    {
     "name": "stdout",
     "output_type": "stream",
     "text": [
      "2017-09-04 19:21:04\n"
     ]
    }
   ],
   "source": [
    "from sklearn.manifold import TSNE\n",
    "\n",
    "#Reduce word vector dimension and plot the corpus\n",
    "def tsne_plot(model):\n",
    "    \"Creates and TSNE model and plots it\"\n",
    "    labels = []\n",
    "    tokens = []\n",
    "\n",
    "    for word in model.wv.vocab:\n",
    "        tokens.append(model[word])\n",
    "        labels.append(word)\n",
    "    \n",
    "    tsne_model = TSNE(perplexity=40, n_components=2, init='pca', n_iter=2500, random_state=23)\n",
    "    new_values = tsne_model.fit_transform(tokens)\n",
    "\n",
    "    x = []\n",
    "    y = []\n",
    "    for value in new_values:\n",
    "        x.append(value[0])\n",
    "        y.append(value[1])\n",
    "        \n",
    "    plt.figure(figsize=(16, 16)) \n",
    "    for i in range(len(x)):\n",
    "        plt.scatter(x[i],y[i])\n",
    "        plt.annotate(labels[i],\n",
    "                     xy=(x[i], y[i]),\n",
    "                     xytext=(5, 2),\n",
    "                     textcoords='offset points',\n",
    "                     ha='right',\n",
    "                     va='bottom')\n",
    "    plt.show()\n",
    "\n",
    "print(strftime(\"%Y-%m-%d %H:%M:%S\", gmtime()))\n",
    "#Build a selective model\n",
    "print(\"Build a word2vec model with at least 500 occurences for each word in the vocabulary\")\n",
    "model_min_count_500 = Word2Vec(train[\"Text\"], size=100, window=20, min_count=500, workers=2)\n",
    "print(strftime(\"%Y-%m-%d %H:%M:%S\", gmtime()))\n",
    "\n",
    "#Plot vocabulary    \n",
    "print(\"Reduce and plot the vocabulary with T-SNE\")\n",
    "tsne_plot(model_min_count_500)\n",
    "print(strftime(\"%Y-%m-%d %H:%M:%S\", gmtime()))\n",
    "\n"
   ]
  },
  {
   "cell_type": "code",
   "execution_count": 20,
   "metadata": {
    "collapsed": false
   },
   "outputs": [
    {
     "name": "stdout",
     "output_type": "stream",
     "text": [
      "[('carcinoma', 0.6707070469856262), ('cancers', 0.6683247089385986), ('cancer,', 0.6569482088088989), ('cancer.', 0.6525745987892151), ('adenocarcinoma', 0.6459561586380005), ('cancers,47', 0.6087566614151001), ('Mother,', 0.6080567836761475), ('cancer.5', 0.5954639911651611), ('tumor', 0.5942410826683044), ('cancer[28,', 0.588981568813324)]\n"
     ]
    }
   ],
   "source": [
    "#Evaluate the most similar word to cancer\n",
    "print(w2v_model.most_similar('cancer'))\n"
   ]
  },
  {
   "cell_type": "markdown",
   "metadata": {},
   "source": [
    "<font size=3.5><strong>Compare feature frequency and word similarity</strong></font>"
   ]
  },
  {
   "cell_type": "markdown",
   "metadata": {},
   "source": [
    "Get the 10 most common Variation for the TP53 Gene and compare the frequency feature to the text similarity of each top variation  to TP53"
   ]
  },
  {
   "cell_type": "code",
   "execution_count": 21,
   "metadata": {
    "collapsed": false
   },
   "outputs": [],
   "source": [
    "TP53_top_10_variation = combine[combine[\"Gene\"]==\"TP53\"][\"Variation\"].sort_values(ascending=False)[:10]"
   ]
  },
  {
   "cell_type": "code",
   "execution_count": 22,
   "metadata": {
    "collapsed": false
   },
   "outputs": [
    {
     "name": "stdout",
     "output_type": "stream",
     "text": [
      "Variation : Y236S is not in the w2v vocabulary\n",
      "Variation : Y236D is not in the w2v vocabulary\n",
      "Y236C has a similar score with Gene TP53 of : 0.156223624065\n",
      "Y234H has a similar score with Gene TP53 of : 0.104668291008\n",
      "Y234C has a similar score with Gene TP53 of : 0.176433641758\n",
      "Y220S has a similar score with Gene TP53 of : 0.13181626791\n",
      "Y220C has a similar score with Gene TP53 of : 0.223609377548\n",
      "Y163C has a similar score with Gene TP53 of : 0.00852609518266\n",
      "Variation : V274F is not in the w2v vocabulary\n",
      "V272M has a similar score with Gene TP53 of : 0.0606374069751\n"
     ]
    }
   ],
   "source": [
    "#Evaluate the distance of the 5 most variation for a gene to the gene word\n",
    "for curr_variation in TP53_top_10_variation:\n",
    "    if curr_variation in w2v_model.wv.vocab:\n",
    "        print(curr_variation + \" has a similar score with Gene TP53 of : \" + str(w2v_model.similarity(\"TP53\", curr_variation)))\n",
    "    else :\n",
    "        print(\"Variation : \"+ curr_variation + \" is not in the w2v vocabulary\")\n",
    "\n"
   ]
  },
  {
   "cell_type": "markdown",
   "metadata": {},
   "source": [
    "Some of these variation are even not present in the vocabulary, not frequent enough to be catch."
   ]
  },
  {
   "cell_type": "markdown",
   "metadata": {},
   "source": [
    "## <p id=\"chapII\">II - Feature engineering</p>\n",
    "\n",
    "--------------------------\n",
    "\n",
    "--------------------------\n",
    "\n",
    "<font size=3.5><strong>Create new features based on cancer synonyms and related words </strong></font>\n",
    "\n",
    "--------------------\n",
    "\n"
   ]
  },
  {
   "cell_type": "code",
   "execution_count": 23,
   "metadata": {
    "collapsed": false
   },
   "outputs": [],
   "source": [
    "#Calculate the frequency ratio for a word in the row text \n",
    "def get_word_ratio(word,text, num_words):\n",
    "    freq = len(re.findall(word, text))\n",
    "    ratio = freq/num_words\n",
    "    return ratio\n"
   ]
  },
  {
   "cell_type": "markdown",
   "metadata": {},
   "source": [
    "<font size=3.5><strong>Use the list of cancer similar words detected by word2vec</strong></font>"
   ]
  },
  {
   "cell_type": "code",
   "execution_count": 24,
   "metadata": {
    "collapsed": false
   },
   "outputs": [
    {
     "name": "stdout",
     "output_type": "stream",
     "text": [
      "2017-09-04 19:21:06\n",
      "2017-09-04 19:22:00\n"
     ]
    }
   ],
   "source": [
    "print(strftime(\"%Y-%m-%d %H:%M:%S\", gmtime()))\n",
    "combine['cancer_avg'] =  combine.apply(lambda x : get_word_ratio('cancer', x['Text'], x['Text_num_words']), axis=1)\n",
    "combine['cancers_avg'] =  combine.apply(lambda x : get_word_ratio('cancers', x['Text'], x['Text_num_words']), axis=1)\n",
    "combine['carcinoma_avg'] =  combine.apply(lambda x : get_word_ratio('carcinoma', x['Text'], x['Text_num_words']), axis=1)\n",
    "combine['adenocarcinoma_avg'] =  combine.apply(lambda x : get_word_ratio('adenocarcinoma', x['Text'], x['Text_num_words']), axis=1)\n",
    "combine['cancercomma_avg'] =  combine.apply(lambda x : get_word_ratio('cancercomma', x['Text'], x['Text_num_words']), axis=1)\n",
    "combine['CRC_avg'] =  combine.apply(lambda x : get_word_ratio('crc', x['Text'], x['Text_num_words']), axis=1)\n",
    "combine['tumor_avg'] =  combine.apply(lambda x : get_word_ratio('tumor,', x['Text'], x['Text_num_words']), axis=1)\n",
    "combine['cancer,'] =  combine.apply(lambda x : get_word_ratio('cancer,', x['Text'], x['Text_num_words']), axis=1)\n",
    "combine['cancer.']  =  combine.apply(lambda x : get_word_ratio('cancer.', x['Text'], x['Text_num_words']), axis=1)\n",
    "combine['cancers,47'] =  combine.apply(lambda x : get_word_ratio('cancers,47', x['Text'], x['Text_num_words']), axis=1)\n",
    "combine['Mother,'] =  combine.apply(lambda x : get_word_ratio('mother,', x['Text'], x['Text_num_words']), axis=1)\n",
    "combine['cancer.5'] =  combine.apply(lambda x : get_word_ratio('cancer.5,', x['Text'], x['Text_num_words']), axis=1)\n",
    "print(strftime(\"%Y-%m-%d %H:%M:%S\", gmtime()))\n",
    "\n",
    "#Gather all cancer similar words ratio to build a new feature \n",
    "combine['cancer_syn_ratio'] = combine['cancer.5'] + combine['Mother,']+combine['cancers,47']+combine['cancer.']+combine['cancer_avg'] +combine['cancers_avg']+combine['carcinoma_avg'] + combine['adenocarcinoma_avg'] + combine['cancercomma_avg'] +combine['CRC_avg'] + combine['tumor_avg'] + combine['cancer,']\n"
   ]
  },
  {
   "cell_type": "markdown",
   "metadata": {},
   "source": [
    "<font size=3.5><strong>As the goal of the project is to distinguish driver and passenger mutations, evaluate these words ferquencies</strong></font>"
   ]
  },
  {
   "cell_type": "code",
   "execution_count": 25,
   "metadata": {
    "collapsed": false
   },
   "outputs": [
    {
     "name": "stdout",
     "output_type": "stream",
     "text": [
      "2017-09-04 19:22:01\n",
      "2017-09-04 19:22:02\n"
     ]
    }
   ],
   "source": [
    "#Search ratio frequency for words \"driver\" and \"passenger\"\n",
    "print(strftime(\"%Y-%m-%d %H:%M:%S\", gmtime()))\n",
    "combine['driver_avg'] =  combine.apply(lambda x : get_word_ratio('driver', x['Text'], x['Text_num_words']), axis=1)\n",
    "combine['passenger_avg'] =  combine.apply(lambda x : get_word_ratio('passenger', x['Text'], x['Text_num_words']), axis=1)\n",
    "print(strftime(\"%Y-%m-%d %H:%M:%S\", gmtime()))\n"
   ]
  },
  {
   "cell_type": "markdown",
   "metadata": {},
   "source": [
    "<font size=3.5><strong>We here count occurencies of words meet text we can read related to cancer</strong></font>"
   ]
  },
  {
   "cell_type": "code",
   "execution_count": 26,
   "metadata": {
    "collapsed": false
   },
   "outputs": [
    {
     "name": "stdout",
     "output_type": "stream",
     "text": [
      "2017-09-04 19:22:02\n",
      "2017-09-04 19:22:37\n"
     ]
    }
   ],
   "source": [
    "#Add cancer synonyms and related words \n",
    "cancer_related_words = ['benign', 'malign', 'cell growth', 'abnormal cell growth', 'cell cycle', 'apoptosis', 'accumulation',\n",
    "                        'spread', 'invade', 'lump', 'weight loss', 'oncological', 'survival', 'death', 'corruption', 'disease',\n",
    "                        'malignancy', 'sickness', 'canker', 'carcinoma', 'big c', 'long illness', 'chemotherapy', \n",
    "                        'radiotherapy','carcinogen', 'carcinogenic', 'carcinoma', 'cytology', 'cells grow',\n",
    "                        'Hodgkin', 'leukemia', 'leukaemia', 'lymphoma', 'lymph nodes', 'malignancy', 'malignant', 'melanoma',\n",
    "                        'metastasis', 'precancerous', 'sarcoma']\n",
    "print(strftime(\"%Y-%m-%d %H:%M:%S\", gmtime()))\n",
    "\n",
    "#Evaluate the ratio frequency of each of these words regarding the text length\n",
    "for cancer_related_word in cancer_related_words:\n",
    "    combine[cancer_related_word] =  combine.apply(lambda x : get_word_ratio(cancer_related_word, x['Text'], x['Text_num_words']), axis=1)\n",
    "print(strftime(\"%Y-%m-%d %H:%M:%S\", gmtime()))\n"
   ]
  },
  {
   "cell_type": "markdown",
   "metadata": {},
   "source": [
    "<font size=3.5><strong> What is the biomarker frequency ? </strong></font><br><br>\n",
    "We now will calculate the ratio : frequency/total number of words for important biomarkers listed here : https://www.ncbi.nlm.nih.gov/pmc/articles/PMC2716785/"
   ]
  },
  {
   "cell_type": "code",
   "execution_count": 27,
   "metadata": {
    "collapsed": false
   },
   "outputs": [
    {
     "name": "stdout",
     "output_type": "stream",
     "text": [
      "2017-09-04 19:22:53\n"
     ]
    }
   ],
   "source": [
    "#Add the 9 FDA approved cancer biomarker\n",
    "FDA_words = ['a-fetoprotein', 'AFP', \n",
    "'hepatocellular', 'antigen-125', 'CA-125', \n",
    "'human epididymis protein 4', 'HE4', 'ovarian cancer', \n",
    "'thyroglobulin', 'Tg' , 'thyroid cancer', \n",
    "'prostate specific antigen', 'PSA', 'prostate cancer', \n",
    "'carcinogenic embryonic antigen', 'CEA', 'pancreatic cancer',\n",
    "'CA15-3/CA27-29', 'HER2/neu', 'breast cancer.6']\n",
    "\n",
    "\n",
    "#Evaluate the ratio frequency of each of these words regarding the text length\n",
    "for FDA_word in FDA_words:\n",
    "    combine[FDA_word] =  combine.apply(lambda x : get_word_ratio(FDA_word, x['Text'], x['Text_num_words']), axis=1)\n",
    "print(strftime(\"%Y-%m-%d %H:%M:%S\", gmtime()))\n",
    "\n"
   ]
  },
  {
   "cell_type": "markdown",
   "metadata": {},
   "source": [
    "<font size=3.5><strong>Get dummies for Gene and Variation</strong></font>"
   ]
  },
  {
   "cell_type": "code",
   "execution_count": 28,
   "metadata": {
    "collapsed": false
   },
   "outputs": [],
   "source": [
    "def dummies(df, columns = None):\n",
    "    if columns is not None:\n",
    "        for column in columns:\n",
    "            df = pd.concat((df, pd.get_dummies(df[column], prefix = column)), axis = 1)\n",
    "            del df[column]\n",
    "    return df\n",
    "\n",
    "combine_dummies = dummies(combine,[\"Gene\",\"Variation\"])\n"
   ]
  },
  {
   "cell_type": "code",
   "execution_count": 29,
   "metadata": {
    "collapsed": false
   },
   "outputs": [
    {
     "data": {
      "text/plain": [
       "(8989, 10193)"
      ]
     },
     "execution_count": 29,
     "metadata": {},
     "output_type": "execute_result"
    }
   ],
   "source": [
    "combine_dummies.shape"
   ]
  },
  {
   "cell_type": "markdown",
   "metadata": {},
   "source": [
    "<font size=3.5><strong>Join combine_dummies and combine dataframes</strong></font>"
   ]
  },
  {
   "cell_type": "code",
   "execution_count": 30,
   "metadata": {
    "collapsed": true
   },
   "outputs": [],
   "source": [
    "combine = pd.concat((combine, combine_dummies),  axis = 1)"
   ]
  },
  {
   "cell_type": "markdown",
   "metadata": {},
   "source": [
    "Split the combine dataset to reshape the train and test dataset to fit models and predict "
   ]
  },
  {
   "cell_type": "code",
   "execution_count": 31,
   "metadata": {
    "collapsed": false
   },
   "outputs": [],
   "source": [
    "#Delete useless columns\n",
    "del combine[\"Class\"]\n",
    "del combine[\"ID\"]"
   ]
  },
  {
   "cell_type": "code",
   "execution_count": 32,
   "metadata": {
    "collapsed": false
   },
   "outputs": [
    {
     "name": "stdout",
     "output_type": "stream",
     "text": [
      "Index(['Text_num_words', 'cancer_avg', 'cancers_avg', 'carcinoma_avg',\n",
      "       'adenocarcinoma_avg', 'cancercomma_avg', 'CRC_avg', 'tumor_avg',\n",
      "       'cancer,', 'cancer.',\n",
      "       ...\n",
      "       'Variation_null380R', 'Variation_null399R', 'Variation_null420W',\n",
      "       'Variation_null423L', 'Variation_null462G', 'Variation_null483L',\n",
      "       'Variation_null496R', 'Variation_null522S', 'Variation_null654G',\n",
      "       'Variation_p61BRAF'],\n",
      "      dtype='object', length=10264)\n"
     ]
    }
   ],
   "source": [
    "#List the number type feature and check how many they are\n",
    "combine_number_cols = combine.select_dtypes(include=[np.number]).columns\n",
    "print(combine_number_cols)"
   ]
  },
  {
   "cell_type": "markdown",
   "metadata": {},
   "source": [
    "<font size=3.5><strong>Reduce the features number with TruncatedSVD</strong></font>"
   ]
  },
  {
   "cell_type": "code",
   "execution_count": 33,
   "metadata": {
    "collapsed": true
   },
   "outputs": [],
   "source": [
    "#Split combine to get back train and test datasets\n",
    "def split_df( df_combined,limit ):    \n",
    "    train = df_combined[:limit]\n",
    "    test = df_combined[limit:]\n",
    "    \n",
    "    return train, test\n"
   ]
  },
  {
   "cell_type": "code",
   "execution_count": 34,
   "metadata": {
    "collapsed": false
   },
   "outputs": [],
   "source": [
    "#import TruncatedSVD and reduce the number of features\n",
    "from sklearn.decomposition import TruncatedSVD\n",
    "svd = TruncatedSVD(n_components=50)\n",
    "svd_data = svd.fit_transform(combine[combine_number_cols])\n",
    "\n"
   ]
  },
  {
   "cell_type": "markdown",
   "metadata": {},
   "source": [
    "<font size=3.5><strong>Get back on train and test dataframe</strong></font>"
   ]
  },
  {
   "cell_type": "code",
   "execution_count": 35,
   "metadata": {
    "collapsed": true
   },
   "outputs": [],
   "source": [
    "#Split the combine dataframe reduced to train and test dataframes\n",
    "train,test = split_df(svd_data,train_shape0)"
   ]
  },
  {
   "cell_type": "markdown",
   "metadata": {},
   "source": [
    "## <p id=\"chapIII\">III - Vectorize Text feature</p>\n",
    "\n",
    "--------------------------\n",
    "\n",
    "--------------------------\n",
    "\n",
    "<font size=3.5><strong>Transform/Vectorize Text feature</strong></font>\n",
    "\n",
    "--------------------\n",
    "\n",
    "\n"
   ]
  },
  {
   "cell_type": "code",
   "execution_count": 36,
   "metadata": {
    "collapsed": false
   },
   "outputs": [
    {
     "name": "stdout",
     "output_type": "stream",
     "text": [
      "2017-09-04 19:23:18\n",
      "Let's fit and transform the Texts with TfidfVectorizer\n",
      "2017-09-04 19:29:05\n",
      "Done !\n"
     ]
    }
   ],
   "source": [
    "#Vectorize the \"Text\" feature with TFIDF \n",
    "tfidf = TfidfVectorizer(\n",
    "    min_df=5, max_features=None, strip_accents='unicode',lowercase =True,\n",
    "    analyzer='word', token_pattern=r'\\w+', use_idf=True, \n",
    "    smooth_idf=True, sublinear_tf=True, \n",
    "    #ngram_range=(1,2) , \n",
    "    stop_words = 'english')\n",
    "\n",
    "#Gathter train and test read Texts\n",
    "all_texts = training_text_df.append(test_text_df)[\"Text\"]\n",
    "\n",
    "#Vectorize texts\n",
    "print(strftime(\"%Y-%m-%d %H:%M:%S\", gmtime()))\n",
    "print(\"Let's fit and transform the Texts with TfidfVectorizer\")\n",
    "tfidf.fit(all_texts)\n",
    "X_tfidf_text = tfidf.transform(all_texts)\n",
    "print(strftime(\"%Y-%m-%d %H:%M:%S\", gmtime()))\n",
    "print(\"Done !\")"
   ]
  },
  {
   "cell_type": "markdown",
   "metadata": {},
   "source": [
    "<font size=3.5><strong>Reduce vectorized Text feature</strong></font>"
   ]
  },
  {
   "cell_type": "code",
   "execution_count": 37,
   "metadata": {
    "collapsed": false
   },
   "outputs": [],
   "source": [
    "#Text vectorized feature reduction\n",
    "from sklearn.decomposition import TruncatedSVD\n",
    "svd = TruncatedSVD(200)\n",
    "SVD_text = svd.fit_transform(X_tfidf_text)"
   ]
  },
  {
   "cell_type": "code",
   "execution_count": 38,
   "metadata": {
    "collapsed": false
   },
   "outputs": [
    {
     "data": {
      "text/plain": [
       "(8989, 200)"
      ]
     },
     "execution_count": 38,
     "metadata": {},
     "output_type": "execute_result"
    }
   ],
   "source": [
    "SVD_text.shape"
   ]
  },
  {
   "cell_type": "markdown",
   "metadata": {},
   "source": [
    "<font size=3.5><strong>Split combine to train and test dataframes</strong></font>"
   ]
  },
  {
   "cell_type": "code",
   "execution_count": 39,
   "metadata": {
    "collapsed": false
   },
   "outputs": [],
   "source": [
    "#Split train and test data\n",
    "X_train_text = SVD_text[:training_text_df.shape[0]]\n",
    "X_test_text = SVD_text[training_text_df.shape[0]:]\n",
    "\n",
    "#Cast the train list to dataframe \n",
    "train_df = pd.DataFrame(data=train[:], \n",
    "                        index=[i for i in range(len(train))], \n",
    "                        columns=[\"Train_features_\"+str(i) for i in range(len(train[0]))]) \n",
    "\n",
    "test_df = pd.DataFrame(data=test[:], \n",
    "                        index=[i for i in range(len(test))], \n",
    "                        columns=[\"Train_features_\"+str(i) for i in range(len(test[0]))]) \n",
    "\n",
    "\n",
    "\n",
    "#Cast the vectorized text to dataframe to concatenate with other features\n",
    "train_text_df = pd.DataFrame(X_train_text,columns=[i for i in range(X_train_text.shape[1])])\n",
    "test_text_df = pd.DataFrame(X_test_text,columns=[i for i in range(X_train_text.shape[1])])\n",
    "\n"
   ]
  },
  {
   "cell_type": "markdown",
   "metadata": {},
   "source": [
    "<font size=3.5><strong>Concatenate Text feature with all others features</strong></font>"
   ]
  },
  {
   "cell_type": "code",
   "execution_count": 40,
   "metadata": {
    "collapsed": true
   },
   "outputs": [],
   "source": [
    "#Concatenate all number features with the vectorized texts\n",
    "train = pd.concat((train_df, train_text_df),  axis = 1)\n",
    "test = pd.concat((test_df, test_text_df),  axis = 1)\n"
   ]
  },
  {
   "cell_type": "markdown",
   "metadata": {},
   "source": [
    "## <p id=\"chapIV\">IV - Build Support Vector Machine model</p>\n",
    "\n",
    "--------------------------\n",
    "\n",
    "--------------------------\n",
    "\n",
    "<font size=3.5><strong>Use the One Versus Rest model to classify texts</strong></font>\n",
    "\n",
    "--------------------\n"
   ]
  },
  {
   "cell_type": "code",
   "execution_count": 41,
   "metadata": {
    "collapsed": false
   },
   "outputs": [
    {
     "name": "stdout",
     "output_type": "stream",
     "text": [
      "[0]\ttrain-mlogloss:2.03973\tvalid-mlogloss:2.05832\n",
      "Multiple eval metrics have been passed: 'valid-mlogloss' will be used for early stopping.\n",
      "\n",
      "Will train until valid-mlogloss hasn't improved in 100 rounds.\n",
      "[50]\ttrain-mlogloss:0.594072\tvalid-mlogloss:0.978086\n",
      "[100]\ttrain-mlogloss:0.355258\tvalid-mlogloss:0.92636\n",
      "[150]\ttrain-mlogloss:0.25796\tvalid-mlogloss:0.943653\n",
      "Stopping. Best iteration:\n",
      "[96]\ttrain-mlogloss:0.367496\tvalid-mlogloss:0.925622\n",
      "\n",
      "0.925622370993\n",
      "[0]\ttrain-mlogloss:2.03769\tvalid-mlogloss:2.06121\n",
      "Multiple eval metrics have been passed: 'valid-mlogloss' will be used for early stopping.\n",
      "\n",
      "Will train until valid-mlogloss hasn't improved in 100 rounds.\n",
      "[50]\ttrain-mlogloss:0.591381\tvalid-mlogloss:0.987227\n",
      "[100]\ttrain-mlogloss:0.356429\tvalid-mlogloss:0.957876\n",
      "[150]\ttrain-mlogloss:0.255925\tvalid-mlogloss:0.982596\n",
      "Stopping. Best iteration:\n",
      "[80]\ttrain-mlogloss:0.423798\tvalid-mlogloss:0.953934\n",
      "\n",
      "0.953933926963\n",
      "[0]\ttrain-mlogloss:2.04148\tvalid-mlogloss:2.05189\n",
      "Multiple eval metrics have been passed: 'valid-mlogloss' will be used for early stopping.\n",
      "\n",
      "Will train until valid-mlogloss hasn't improved in 100 rounds.\n",
      "[50]\ttrain-mlogloss:0.609672\tvalid-mlogloss:0.902996\n",
      "[100]\ttrain-mlogloss:0.370724\tvalid-mlogloss:0.842247\n",
      "[150]\ttrain-mlogloss:0.274911\tvalid-mlogloss:0.843524\n",
      "[200]\ttrain-mlogloss:0.219583\tvalid-mlogloss:0.860406\n",
      "Stopping. Best iteration:\n",
      "[123]\ttrain-mlogloss:0.318799\tvalid-mlogloss:0.837379\n",
      "\n",
      "0.837378529362\n",
      "[0]\ttrain-mlogloss:2.03867\tvalid-mlogloss:2.05391\n",
      "Multiple eval metrics have been passed: 'valid-mlogloss' will be used for early stopping.\n",
      "\n",
      "Will train until valid-mlogloss hasn't improved in 100 rounds.\n",
      "[50]\ttrain-mlogloss:0.594476\tvalid-mlogloss:0.993218\n",
      "[100]\ttrain-mlogloss:0.359271\tvalid-mlogloss:0.965344\n",
      "[150]\ttrain-mlogloss:0.257203\tvalid-mlogloss:0.989181\n",
      "Stopping. Best iteration:\n",
      "[85]\ttrain-mlogloss:0.408432\tvalid-mlogloss:0.963715\n",
      "\n",
      "0.963715114929\n",
      "[0]\ttrain-mlogloss:2.04287\tvalid-mlogloss:2.05133\n",
      "Multiple eval metrics have been passed: 'valid-mlogloss' will be used for early stopping.\n",
      "\n",
      "Will train until valid-mlogloss hasn't improved in 100 rounds.\n",
      "[50]\ttrain-mlogloss:0.616253\tvalid-mlogloss:0.910239\n",
      "[100]\ttrain-mlogloss:0.381779\tvalid-mlogloss:0.843344\n",
      "[150]\ttrain-mlogloss:0.278694\tvalid-mlogloss:0.841226\n",
      "[200]\ttrain-mlogloss:0.226836\tvalid-mlogloss:0.851241\n",
      "Stopping. Best iteration:\n",
      "[135]\ttrain-mlogloss:0.302483\tvalid-mlogloss:0.838066\n",
      "\n",
      "0.838066058232\n"
     ]
    }
   ],
   "source": [
    "################### Other model with XGB ###########################\n",
    "import xgboost as xgb\n",
    "from sklearn import metrics \n",
    "from sklearn.model_selection import train_test_split\n",
    "\n",
    "#The denom variable will permit to evaluate the mean of the scores obtained\n",
    "denom = 0\n",
    "\n",
    "#Predict class for several fold and evaluate the mean for the final predictions\n",
    "fold = 5 \n",
    "for i in range(fold):\n",
    "    params = {\n",
    "        'eta': 0.09,   #Learning rate\n",
    "        'max_depth': 4, \n",
    "        'objective': 'multi:softprob',\n",
    "        'eval_metric': 'mlogloss',\n",
    "        'num_class': 9,\n",
    "        'seed': i,\n",
    "        'silent': True\n",
    "    }\n",
    "    \n",
    "    #Train the model on 80% of the train data\n",
    "    X_train, X_test, y_train, y_test = train_test_split(train, y_text, test_size=0.2, random_state=i)\n",
    "    watchlist = [(xgb.DMatrix(X_train, y_train), 'train'), (xgb.DMatrix(X_test, y_test), 'valid')]\n",
    "    model = xgb.train(params, xgb.DMatrix(X_train, y_train), 1000,  watchlist, verbose_eval=50, early_stopping_rounds=100)\n",
    "    \n",
    "    #Get the score with log loss metric\n",
    "    score1 = metrics.log_loss(y_test, model.predict(xgb.DMatrix(X_test), ntree_limit=model.best_ntree_limit), labels = list(range(9)))\n",
    "    print(score1)\n",
    "    \n",
    "    if denom != 0: # Is it our first prediction ?\n",
    "        pred = model.predict(xgb.DMatrix(test), ntree_limit=model.best_ntree_limit+80)\n",
    "        preds += pred\n",
    "    else:\n",
    "        pred = model.predict(xgb.DMatrix(test), ntree_limit=model.best_ntree_limit+80)\n",
    "        preds = pred.copy()\n",
    "    denom += 1\n",
    "    submission = pd.DataFrame(pred, columns=['class'+str(c+1) for c in range(9)])\n",
    "    submission['ID'] = test_variants_df.ID\n",
    "    submission.to_csv('submission_xgb_fold_'  + str(i) + '.csv', index=False)\n",
    "\n",
    "#Get the predictions mean\n",
    "preds /= denom\n",
    "\n",
    "#Build the final submission file\n",
    "submission = pd.DataFrame(preds, columns=['class'+str(c+1) for c in range(9)])\n",
    "submission['ID'] = test_variants_df.ID\n",
    "submission.to_csv('submission_xgb.csv', index=False)\n"
   ]
  },
  {
   "cell_type": "code",
   "execution_count": null,
   "metadata": {
    "collapsed": true
   },
   "outputs": [],
   "source": []
  },
  {
   "cell_type": "code",
   "execution_count": null,
   "metadata": {
    "collapsed": true
   },
   "outputs": [],
   "source": []
  }
 ],
 "metadata": {
  "kernelspec": {
   "display_name": "Python 3",
   "language": "python",
   "name": "python3"
  },
  "language_info": {
   "codemirror_mode": {
    "name": "ipython",
    "version": 3
   },
   "file_extension": ".py",
   "mimetype": "text/x-python",
   "name": "python",
   "nbconvert_exporter": "python",
   "pygments_lexer": "ipython3",
   "version": "3.6.1"
  }
 },
 "nbformat": 4,
 "nbformat_minor": 2
}
